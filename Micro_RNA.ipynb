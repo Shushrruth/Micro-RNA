{
  "nbformat": 4,
  "nbformat_minor": 0,
  "metadata": {
    "colab": {
      "name": "Micro_RNA.ipynb",
      "provenance": [],
      "authorship_tag": "ABX9TyMk8JgyeBdq9o44Bx0l2Vpb",
      "include_colab_link": true
    },
    "kernelspec": {
      "name": "python3",
      "display_name": "Python 3"
    }
  },
  "cells": [
    {
      "cell_type": "markdown",
      "metadata": {
        "id": "view-in-github",
        "colab_type": "text"
      },
      "source": [
        "<a href=\"https://colab.research.google.com/github/Shushrruth/Micro-RNA/blob/main/Micro_RNA.ipynb\" target=\"_parent\"><img src=\"https://colab.research.google.com/assets/colab-badge.svg\" alt=\"Open In Colab\"/></a>"
      ]
    },
    {
      "cell_type": "code",
      "metadata": {
        "colab": {
          "base_uri": "https://localhost:8080/"
        },
        "id": "9gzx7caqMHAa",
        "outputId": "dafbb2e3-7fd2-4858-af73-8090b1031a8f"
      },
      "source": [
        "!gdown --id 1iCs89rJZ-Kbea2IJty8KBJEvXKQ1-fIQ\n",
        "!gdown --id 11cK30co_GQ3b5dWAnTLjUpejaErLd3Ar"
      ],
      "execution_count": null,
      "outputs": [
        {
          "output_type": "stream",
          "text": [
            "Downloading...\n",
            "From: https://drive.google.com/uc?id=1iCs89rJZ-Kbea2IJty8KBJEvXKQ1-fIQ\n",
            "To: /content/hsa-pre-release22.fa.txt\n",
            "100% 267k/267k [00:00<00:00, 8.63MB/s]\n",
            "Downloading...\n",
            "From: https://drive.google.com/uc?id=11cK30co_GQ3b5dWAnTLjUpejaErLd3Ar\n",
            "To: /content/human_neg.fa.txt\n",
            "100% 759k/759k [00:00<00:00, 12.0MB/s]\n"
          ],
          "name": "stdout"
        }
      ]
    },
    {
      "cell_type": "code",
      "metadata": {
        "id": "i-wyb8HDeMjG"
      },
      "source": [
        "import pandas as pd\n",
        "Positive = pd.read_csv('hsa-pre-release22.fa.txt',sep ='\\n',header=None).values[1::2]\n",
        "Negative = pd.read_csv('/content/human_neg.fa.txt',sep ='\\n',header=None).values[1::2]"
      ],
      "execution_count": null,
      "outputs": []
    },
    {
      "cell_type": "code",
      "metadata": {
        "id": "Sy4Qb8VddNyF"
      },
      "source": [
        "def clean(file):\n",
        "\n",
        "  for i in range(len(file)):\n",
        "    if len(file[i][0]) == 180:\n",
        "       continue\n",
        "    \n",
        "    if len(file[i][0]) < 180:\n",
        "      n = 180 - len(file[i][0])\n",
        "\n",
        "      for j in range(n//2):\n",
        "        file[i][0] = file[i][0] + 'N'\n",
        "      \n",
        "      for j in range(n//2):\n",
        "        file[i][0] = 'N' + file[i][0]\n",
        "\n",
        "    if len(file[i][0]) > 180:\n",
        "      n = len(file[i][0])//2\n",
        "\n",
        "      file[i][0] = file[i][0][n-90:n+90]\n",
        "\n",
        "    if len(file[i][0]) == 179:\n",
        "      file[i][0] +='N'\n",
        "\n",
        "  return file"
      ],
      "execution_count": null,
      "outputs": []
    },
    {
      "cell_type": "code",
      "metadata": {
        "id": "-Gz4-nEseaZV"
      },
      "source": [
        "Positive = clean(Positive)\n",
        "Negative = clean(Negative)\n",
        "\n",
        "lenp = len(Positive)//10\n",
        "Negative = Negative[:len(Positive)]\n",
        "Ptrain, Ptest = Positive[lenp:], Positive[:lenp]\n",
        "Ntrain, Ntest = Negative[lenp:], Negative[:lenp]"
      ],
      "execution_count": null,
      "outputs": []
    },
    {
      "cell_type": "code",
      "metadata": {
        "id": "3QJfpNiWejJW"
      },
      "source": [
        "import cv2\n",
        "import numpy as np\n",
        "import os\n",
        "import pandas as pd\n",
        "import torch\n",
        "from torch.utils.data import DataLoader, Dataset\n",
        "import torchvision.transforms\n",
        "import torchvision\n",
        "from torch.nn import functional as F\n",
        "from PIL import Image\n",
        "\n",
        "class Data(Dataset):\n",
        "    \n",
        "    def __init__(self, data, label):\n",
        "        \n",
        "        self.data= data\n",
        "        self.label=label\n",
        "\n",
        "\n",
        "    def __len__(self):\n",
        "        return len(self.data)\n",
        "\n",
        "    def __getitem__(self, index):\n",
        "        i=self.data[index]\n",
        "        ctr=1\n",
        "        ctri=0\n",
        "        ar=np.zeros((len(i[0]),4))\n",
        "        \n",
        "        for s in i[0][1:]:\n",
        "            if s=='A':\n",
        "                ar[ctr,0]=1\n",
        "            elif s=='U':\n",
        "                ar[ctr,1]=1\n",
        "            elif s=='C':\n",
        "                ar[ctr,2]=1\n",
        "            elif s=='G':\n",
        "                ar[ctr,3]=1\n",
        "\n",
        "            ctr+=1\n",
        "        \n",
        "        ar=torch.tensor(ar).float().permute(1,0)\n",
        "        label=torch.tensor(self.label).float()\n",
        "        return ar,label"
      ],
      "execution_count": null,
      "outputs": []
    },
    {
      "cell_type": "code",
      "metadata": {
        "colab": {
          "base_uri": "https://localhost:8080/"
        },
        "id": "vRnwkrDJekxA",
        "outputId": "21ce54b3-fb8d-408f-af8a-b270be15a678"
      },
      "source": [
        "train_datasets=[]\n",
        "\n",
        "print('###')\n",
        "len_0=0\n",
        "\n",
        "for file_ in [Ntrain]:\n",
        "\n",
        "    d=Data(file_,0)\n",
        "    len_0+=len(d)\n",
        "    train_datasets.append(d)\n",
        "\n",
        "print(\"Train Length Negatives: {}\".format(len_0))\n",
        "\n",
        "len_0=0\n",
        "for file_ in [Ptrain]:\n",
        "    d=Data(file_,1)\n",
        "    len_0+=len(d)\n",
        "    train_datasets.append(d)\n",
        "\n",
        "print(\"Train Length Positives: {}\".format(len_0))\n",
        "\n",
        "train_dataset=torch.utils.data.ConcatDataset(train_datasets)\n",
        "print(len(train_dataset))\n",
        "\n",
        "########################\n",
        "test_datasets=[]\n",
        "\n",
        "print('###')\n",
        "len_0=0\n",
        "\n",
        "for file_ in [Ntest]:\n",
        "\n",
        "    d=Data(file_,0)\n",
        "    len_0+=len(d)\n",
        "    test_datasets.append(d)\n",
        "\n",
        "print(\"Test Length Negatives: {}\".format(len_0))\n",
        "\n",
        "len_0=0\n",
        "for file_ in [Ptest]:\n",
        "    d=Data(file_,1)\n",
        "    len_0+=len(d)\n",
        "    test_datasets.append(d)\n",
        "\n",
        "print(\"Test Length Positives: {}\".format(len_0))\n",
        "\n",
        "test_dataset=torch.utils.data.ConcatDataset(test_datasets)\n",
        "print(len(test_dataset))"
      ],
      "execution_count": null,
      "outputs": [
        {
          "output_type": "stream",
          "text": [
            "###\n",
            "Train Length Negatives: 1726\n",
            "Train Length Positives: 1726\n",
            "3452\n",
            "###\n",
            "Test Length Negatives: 191\n",
            "Test Length Positives: 191\n",
            "382\n"
          ],
          "name": "stdout"
        }
      ]
    },
    {
      "cell_type": "code",
      "metadata": {
        "colab": {
          "base_uri": "https://localhost:8080/"
        },
        "id": "XvfT_8HSfddh",
        "outputId": "257750fb-197f-4612-f868-2250acb47fb2"
      },
      "source": [
        "'''\n",
        "\n",
        "\n",
        "Model architecture\n",
        "\n",
        "\n",
        "'''\n",
        "\n",
        "\n",
        "import torch\n",
        "from torch import nn\n",
        "from torch.nn import functional as F\n",
        "\n",
        "import torch.nn.functional as F\n",
        "from torch.nn import MaxPool1d\n",
        "\n",
        "class Net(nn.Module):\n",
        "    def __init__(self, in_channels=4, out_channels=1):\n",
        "        super(Net, self).__init__()\n",
        "\n",
        "        self.Conv1 = nn.Conv1d(in_channels= 4, out_channels= 160, kernel_size= 3)\n",
        "\n",
        "        self.Conv2 = nn.Conv1d(in_channels= 160, out_channels= 320, kernel_size= 3)\n",
        "\n",
        "        self.Maxpool = nn.MaxPool1d(kernel_size= 2, stride= 2)\n",
        "\n",
        "        self.Drop2 = nn.Dropout(0.2)\n",
        "\n",
        "        #88x320\n",
        "\n",
        "        self.BiLSTM1 = nn.LSTM(input_size=88, hidden_size=32, num_layers=2,\n",
        "                                 batch_first=True,\n",
        "                                 dropout=0.5,\n",
        "                                 bidirectional=True)\n",
        "      \n",
        "        self.Linear1 = nn.Linear(320*32*2, 128)\n",
        "\n",
        "        self.Linear2 = nn.Linear(128,1)\n",
        "\n",
        "        \n",
        "\n",
        "    def forward(self, input):\n",
        "\n",
        "        x = self.Conv1(input)\n",
        "\n",
        "        x = F.relu(x)\n",
        "\n",
        "        x = self.Conv2(x)\n",
        "\n",
        "        x = F.relu(x)\n",
        "\n",
        "        x = self.Maxpool(x)\n",
        "\n",
        "        x = self.Drop2(x)\n",
        "\n",
        "        x,_ = self.BiLSTM1(x)\n",
        "\n",
        "        x = torch.flatten(x,1)\n",
        "\n",
        "        x = self.Linear1(x)\n",
        "\n",
        "        x = F.relu(x)\n",
        "\n",
        "        x = self.Linear2(x)\n",
        "\n",
        "        x = torch.sigmoid(x)\n",
        "\n",
        "        return x \n",
        "\n",
        "\n",
        "k=torch.rand(1,4,180).cuda()\n",
        "Net().cuda()(k.float())"
      ],
      "execution_count": null,
      "outputs": [
        {
          "output_type": "execute_result",
          "data": {
            "text/plain": [
              "tensor([[0.5029]], device='cuda:0', grad_fn=<SigmoidBackward>)"
            ]
          },
          "metadata": {
            "tags": []
          },
          "execution_count": 69
        }
      ]
    },
    {
      "cell_type": "code",
      "metadata": {
        "id": "uw5P8LWBcUQl"
      },
      "source": [
        "from __future__ import print_function\n",
        "import argparse\n",
        "import torch\n",
        "import torch.nn as nn\n",
        "import torch.nn.functional as F\n",
        "import torch.optim as optim\n",
        "from torchvision import datasets, transforms\n",
        "from torch.optim.lr_scheduler import StepLR\n",
        "from sklearn.metrics import classification_report\n",
        "\n",
        "\n",
        "\n",
        "def main():\n",
        "    # Training settings\n",
        "\n",
        "    use_cuda = True\n",
        "    gamma=0.7\n",
        "    save_model=True\n",
        "    batch_size=64\n",
        "    test_batch_size=128\n",
        "\n",
        "    epochs=200\n",
        "    device = torch.device(\"cuda\" if use_cuda else \"cpu\")\n",
        "\n",
        "   \n",
        "    \n",
        "    \n",
        "\n",
        "    train_loader = torch.utils.data.DataLoader(train_dataset, shuffle=True,batch_size=10)\n",
        "    test_loader = torch.utils.data.DataLoader(test_dataset, shuffle=True,batch_size=test_batch_size)\n",
        "\n",
        "    model = Net().cuda()#.to(device)\n",
        "    optimizer = optim.Adam(model.parameters(), lr=0.0001)\n",
        "    print(\"Training on {} Samples\".format(len(train_loader.dataset)))\n",
        "    scheduler = torch.optim.lr_scheduler.ReduceLROnPlateau(optimizer,'min')\n",
        "    min_loss=10000\n",
        "    for epoch in range(1, epochs + 1):\n",
        "        print(\"Epoch {}\".format(epoch))\n",
        "        model.train()\n",
        "        log_interval=10\n",
        "        loss_sum=0.0\n",
        "        from tqdm.auto import tqdm\n",
        "        correct=0\n",
        "        for (data, target) in tqdm(train_loader):\n",
        "            data, target = data.to(device), target.to(device)\n",
        "                \n",
        "            optimizer.zero_grad()\n",
        "            output = model(data).squeeze()\n",
        "\n",
        "            loss = nn.BCELoss()(output, target)\n",
        "            loss.backward()\n",
        "            loss_sum+=float(loss)/(len(train_loader.dataset)//data.shape[0])\n",
        "            optimizer.step()\n",
        "            \n",
        "            prob = (output)\n",
        "            prob[prob>=0.5]=1\n",
        "            prob[prob<0.5]=0\n",
        "            correct += torch.sum(prob==target)\n",
        "            \n",
        "        train_loss=loss_sum\n",
        "\n",
        "        print('\\nTrain set: Average loss: {:.4f}, Accuracy: {}/{} ({:.0f}%)\\n'.format(\n",
        "            train_loss, correct, len(train_loader.dataset),\n",
        "            100. * correct / len(train_loader.dataset)))\n",
        "        \n",
        "        print('Epoch {} Train loss {}'.format(epoch, loss_sum))\n",
        "\n",
        "        model.eval()\n",
        "        test_loss = 0\n",
        "        correct = 0\n",
        "        y_pred=[]\n",
        "        y_true=[]\n",
        "        y_proba=[]\n",
        "        with torch.no_grad():\n",
        "\n",
        "\n",
        "            for data, target in tqdm(test_loader):\n",
        "                data, target = data.to(device), target.to(device)       \n",
        "                output = model(data).squeeze()\n",
        "                test_loss += nn.BCELoss()(output, target).item()*1e+1  # sum up batch loss\n",
        "                prob = (output)\n",
        "                y_probas=prob.cpu().numpy()\n",
        "                \n",
        "                prob[prob>=0.5]=1\n",
        "                prob[prob<0.5]=0\n",
        "                correct += torch.sum(prob==target)\n",
        "                for i in range(len(prob)):\n",
        "                    y_proba.append(float(y_probas[i]))\n",
        "                    y_pred.append(float(prob[i]))\n",
        "                    y_true.append(float(target[i]))\n",
        "            \n",
        "\n",
        "            target_names = ['Negative', 'Positive']\n",
        "\n",
        "            print(classification_report(y_true, y_pred, target_names=target_names))\n",
        "\n",
        "        test_loss /= len(test_loader.dataset)\n",
        "        if test_loss<min_loss:\n",
        "            min_loss=test_loss\n",
        "            torch.save(model.state_dict(),'checkpoint_loop.pt')\n",
        "            torch.save(model.state_dict(),'/content/drive/MyDrive/miR_DL/miR_model_1_jan18.pt')\n",
        "\n",
        "        \n",
        "        scheduler.step(test_loss)\n",
        "        print('\\nTest set: Average loss: {:.4f}, Accuracy: {}/{} ({:.0f}%)\\n'.format(\n",
        "            test_loss, correct, len(test_loader.dataset),\n",
        "            100. * correct / len(test_loader.dataset)))\n",
        "\n",
        "\n",
        "if __name__ == '__main__':\n",
        "    main()"
      ],
      "execution_count": null,
      "outputs": []
    },
    {
      "cell_type": "code",
      "metadata": {
        "colab": {
          "base_uri": "https://localhost:8080/",
          "height": 633,
          "referenced_widgets": [
            "cc83797db3fb4646b70cefdd2443a05d",
            "93bc34058ee34ea8a90a18f307c891f2",
            "d1376e70fb2746c3b70f7ba1ad931dfb",
            "3ea2fe670d7e4b779ca0230682474744",
            "af3a3d226b48457180c71cc5b22b20ad",
            "1fec119b72ea46aea037d6087b6f2561",
            "babe5bc7645746aa87f86b2e32691f86",
            "4fecd4ed4a6348b291106df1ee50d690"
          ]
        },
        "id": "bzPwmkRAf718",
        "outputId": "324146a7-78c9-4c6e-f78e-69a8f6cc66b6"
      },
      "source": [
        "from sklearn.metrics import classification_report\n",
        "testloader = torch.utils.data.DataLoader(test_dataset, shuffle=True,batch_size=128)\n",
        "testloader=testloader\n",
        "from tqdm.auto import tqdm\n",
        "model=Net().cuda()\n",
        "model.load_state_dict(torch.load('/content/drive/MyDrive/miR_DL/miR_model_1_jan18.pt'))\n",
        "model.eval()\n",
        "test_loss = 0\n",
        "correct = 0\n",
        "y_pred=[]\n",
        "y_true=[]\n",
        "y_proba=[]\n",
        "with torch.no_grad():\n",
        "\n",
        "    for data, target in tqdm(testloader):\n",
        "        data, target = data.cuda(), target.cuda()\n",
        "\n",
        "        output = model(data).squeeze()\n",
        "        test_loss += nn.BCELoss()(output, target).item()*1e+1\n",
        "        prob = (output)\n",
        "        y_probas=prob.cpu().numpy()\n",
        "        \n",
        "        prob[prob>=0.5]=1\n",
        "        prob[prob<0.5]=0\n",
        "        correct += torch.sum(prob==target)\n",
        "        for i in range(len(prob)):\n",
        "            y_proba.append(float(y_probas[i]))\n",
        "            y_pred.append(float(prob[i]))\n",
        "            y_true.append(float(target[i]))\n",
        "\n",
        "\n",
        "target_names = ['Negative', 'Positive']\n",
        "rocs(y_true,y_proba)\n",
        "prcs(y_true,y_proba)"
      ],
      "execution_count": null,
      "outputs": [
        {
          "output_type": "display_data",
          "data": {
            "application/vnd.jupyter.widget-view+json": {
              "model_id": "cc83797db3fb4646b70cefdd2443a05d",
              "version_minor": 0,
              "version_major": 2
            },
            "text/plain": [
              "HBox(children=(FloatProgress(value=0.0, max=3.0), HTML(value='')))"
            ]
          },
          "metadata": {
            "tags": []
          }
        },
        {
          "output_type": "stream",
          "text": [
            "\n"
          ],
          "name": "stdout"
        },
        {
          "output_type": "display_data",
          "data": {
            "image/png": "[encoded data removed]",
            "text/plain": [
              "<Figure size 432x288 with 1 Axes>"
            ]
          },
          "metadata": {
            "tags": [],
            "needs_background": "light"
          }
        },
        {
          "output_type": "display_data",
          "data": {
            "image/png": "[encoded data removed]",
            "text/plain": [
              "<Figure size 432x288 with 1 Axes>"
            ]
          },
          "metadata": {
            "tags": [],
            "needs_background": "light"
          }
        }
      ]
    },
    {
      "cell_type": "code",
      "metadata": {
        "colab": {
          "base_uri": "https://localhost:8080/"
        },
        "id": "rE8Hru3fFfg_",
        "outputId": "2202d7a6-1d1e-49be-c44d-ec6f0cccefb3"
      },
      "source": [
        "from sklearn.metrics import confusion_matrix\n",
        "tn, fp, fn, tp = confusion_matrix(y_true, y_pred).ravel()\n",
        "\n",
        "\n",
        "sensitivity = tp/(tp+fn)\n",
        "print('SE =', sensitivity)\n",
        "\n",
        "specificity = tn/(tn+fp)\n",
        "print('SP = ',specificity)\n",
        "\n",
        "ppv = tp/(tp+fp)\n",
        "print('ppv =', ppv)\n",
        "\n",
        "F1score = 2*tp/(2*tp + fp + fn)\n",
        "print('F1score=', Fscore)\n",
        "\n",
        "Gmean = (sensitivity*specificity)**0.5\n",
        "print('Gmean = ',Gmean)\n",
        "\n",
        "accuracy = (tp + tn)/(tp+tn+fp+fn)\n",
        "print(\"accuracy = \", accuracy)"
      ],
      "execution_count": null,
      "outputs": [
        {
          "output_type": "stream",
          "text": [
            "SE = 0.8952879581151832\n",
            "SP =  0.9476439790575916\n",
            "ppv = 0.9447513812154696\n",
            "F1score= 0.9193548387096774\n",
            "Gmean =  0.9210940467892617\n",
            "accuracy =  0.9214659685863874\n"
          ],
          "name": "stdout"
        }
      ]
    }
  ]
}
